{
 "cells": [
  {
   "cell_type": "code",
   "execution_count": 467,
   "id": "4693b0c2-27b2-4de1-97cd-5acbc253ceab",
   "metadata": {},
   "outputs": [],
   "source": [
    "import pandas as pd\n",
    "import matplotlib.pyplot as plt\n",
    "import numpy as np\n",
    "from datetime import datetime"
   ]
  },
  {
   "cell_type": "code",
   "execution_count": 468,
   "id": "59e18d4d-1962-4302-b665-52708ad8d967",
   "metadata": {},
   "outputs": [
    {
     "data": {
      "text/html": [
       "<div>\n",
       "<style scoped>\n",
       "    .dataframe tbody tr th:only-of-type {\n",
       "        vertical-align: middle;\n",
       "    }\n",
       "\n",
       "    .dataframe tbody tr th {\n",
       "        vertical-align: top;\n",
       "    }\n",
       "\n",
       "    .dataframe thead th {\n",
       "        text-align: right;\n",
       "    }\n",
       "</style>\n",
       "<table border=\"1\" class=\"dataframe\">\n",
       "  <thead>\n",
       "    <tr style=\"text-align: right;\">\n",
       "      <th></th>\n",
       "      <th>Brand</th>\n",
       "      <th>Model</th>\n",
       "      <th>Year</th>\n",
       "      <th>Engine_Size</th>\n",
       "      <th>Fuel_Type</th>\n",
       "      <th>Transmission</th>\n",
       "      <th>Mileage</th>\n",
       "      <th>Doors</th>\n",
       "      <th>Owner_Count</th>\n",
       "      <th>Price</th>\n",
       "    </tr>\n",
       "  </thead>\n",
       "  <tbody>\n",
       "    <tr>\n",
       "      <th>0</th>\n",
       "      <td>Kia</td>\n",
       "      <td>Rio</td>\n",
       "      <td>2020</td>\n",
       "      <td>4.2</td>\n",
       "      <td>Diesel</td>\n",
       "      <td>Manual</td>\n",
       "      <td>289944</td>\n",
       "      <td>3</td>\n",
       "      <td>5</td>\n",
       "      <td>8501</td>\n",
       "    </tr>\n",
       "    <tr>\n",
       "      <th>1</th>\n",
       "      <td>Chevrolet</td>\n",
       "      <td>Malibu</td>\n",
       "      <td>2012</td>\n",
       "      <td>2.0</td>\n",
       "      <td>Hybrid</td>\n",
       "      <td>Automatic</td>\n",
       "      <td>5356</td>\n",
       "      <td>2</td>\n",
       "      <td>3</td>\n",
       "      <td>12092</td>\n",
       "    </tr>\n",
       "    <tr>\n",
       "      <th>2</th>\n",
       "      <td>Mercedes</td>\n",
       "      <td>GLA</td>\n",
       "      <td>2020</td>\n",
       "      <td>4.2</td>\n",
       "      <td>Diesel</td>\n",
       "      <td>Automatic</td>\n",
       "      <td>231440</td>\n",
       "      <td>4</td>\n",
       "      <td>2</td>\n",
       "      <td>11171</td>\n",
       "    </tr>\n",
       "    <tr>\n",
       "      <th>3</th>\n",
       "      <td>Audi</td>\n",
       "      <td>Q5</td>\n",
       "      <td>2023</td>\n",
       "      <td>2.0</td>\n",
       "      <td>Electric</td>\n",
       "      <td>Manual</td>\n",
       "      <td>160971</td>\n",
       "      <td>2</td>\n",
       "      <td>1</td>\n",
       "      <td>11780</td>\n",
       "    </tr>\n",
       "    <tr>\n",
       "      <th>4</th>\n",
       "      <td>Volkswagen</td>\n",
       "      <td>Golf</td>\n",
       "      <td>2003</td>\n",
       "      <td>2.6</td>\n",
       "      <td>Hybrid</td>\n",
       "      <td>Semi-Automatic</td>\n",
       "      <td>286618</td>\n",
       "      <td>3</td>\n",
       "      <td>3</td>\n",
       "      <td>2867</td>\n",
       "    </tr>\n",
       "    <tr>\n",
       "      <th>...</th>\n",
       "      <td>...</td>\n",
       "      <td>...</td>\n",
       "      <td>...</td>\n",
       "      <td>...</td>\n",
       "      <td>...</td>\n",
       "      <td>...</td>\n",
       "      <td>...</td>\n",
       "      <td>...</td>\n",
       "      <td>...</td>\n",
       "      <td>...</td>\n",
       "    </tr>\n",
       "    <tr>\n",
       "      <th>9995</th>\n",
       "      <td>Kia</td>\n",
       "      <td>Optima</td>\n",
       "      <td>2004</td>\n",
       "      <td>3.7</td>\n",
       "      <td>Diesel</td>\n",
       "      <td>Semi-Automatic</td>\n",
       "      <td>5794</td>\n",
       "      <td>2</td>\n",
       "      <td>4</td>\n",
       "      <td>8884</td>\n",
       "    </tr>\n",
       "    <tr>\n",
       "      <th>9996</th>\n",
       "      <td>Chevrolet</td>\n",
       "      <td>Impala</td>\n",
       "      <td>2002</td>\n",
       "      <td>1.4</td>\n",
       "      <td>Electric</td>\n",
       "      <td>Automatic</td>\n",
       "      <td>168000</td>\n",
       "      <td>2</td>\n",
       "      <td>1</td>\n",
       "      <td>6240</td>\n",
       "    </tr>\n",
       "    <tr>\n",
       "      <th>9997</th>\n",
       "      <td>BMW</td>\n",
       "      <td>3 Series</td>\n",
       "      <td>2010</td>\n",
       "      <td>3.0</td>\n",
       "      <td>Petrol</td>\n",
       "      <td>Automatic</td>\n",
       "      <td>86664</td>\n",
       "      <td>5</td>\n",
       "      <td>1</td>\n",
       "      <td>9866</td>\n",
       "    </tr>\n",
       "    <tr>\n",
       "      <th>9998</th>\n",
       "      <td>Ford</td>\n",
       "      <td>Explorer</td>\n",
       "      <td>2002</td>\n",
       "      <td>1.4</td>\n",
       "      <td>Hybrid</td>\n",
       "      <td>Automatic</td>\n",
       "      <td>225772</td>\n",
       "      <td>4</td>\n",
       "      <td>1</td>\n",
       "      <td>4084</td>\n",
       "    </tr>\n",
       "    <tr>\n",
       "      <th>9999</th>\n",
       "      <td>Volkswagen</td>\n",
       "      <td>Tiguan</td>\n",
       "      <td>2001</td>\n",
       "      <td>2.1</td>\n",
       "      <td>Diesel</td>\n",
       "      <td>Manual</td>\n",
       "      <td>157882</td>\n",
       "      <td>3</td>\n",
       "      <td>3</td>\n",
       "      <td>3342</td>\n",
       "    </tr>\n",
       "  </tbody>\n",
       "</table>\n",
       "<p>10000 rows × 10 columns</p>\n",
       "</div>"
      ],
      "text/plain": [
       "           Brand     Model  Year  Engine_Size Fuel_Type    Transmission  \\\n",
       "0            Kia       Rio  2020          4.2    Diesel          Manual   \n",
       "1      Chevrolet    Malibu  2012          2.0    Hybrid       Automatic   \n",
       "2       Mercedes       GLA  2020          4.2    Diesel       Automatic   \n",
       "3           Audi        Q5  2023          2.0  Electric          Manual   \n",
       "4     Volkswagen      Golf  2003          2.6    Hybrid  Semi-Automatic   \n",
       "...          ...       ...   ...          ...       ...             ...   \n",
       "9995         Kia    Optima  2004          3.7    Diesel  Semi-Automatic   \n",
       "9996   Chevrolet    Impala  2002          1.4  Electric       Automatic   \n",
       "9997         BMW  3 Series  2010          3.0    Petrol       Automatic   \n",
       "9998        Ford  Explorer  2002          1.4    Hybrid       Automatic   \n",
       "9999  Volkswagen    Tiguan  2001          2.1    Diesel          Manual   \n",
       "\n",
       "      Mileage  Doors  Owner_Count  Price  \n",
       "0      289944      3            5   8501  \n",
       "1        5356      2            3  12092  \n",
       "2      231440      4            2  11171  \n",
       "3      160971      2            1  11780  \n",
       "4      286618      3            3   2867  \n",
       "...       ...    ...          ...    ...  \n",
       "9995     5794      2            4   8884  \n",
       "9996   168000      2            1   6240  \n",
       "9997    86664      5            1   9866  \n",
       "9998   225772      4            1   4084  \n",
       "9999   157882      3            3   3342  \n",
       "\n",
       "[10000 rows x 10 columns]"
      ]
     },
     "execution_count": 468,
     "metadata": {},
     "output_type": "execute_result"
    }
   ],
   "source": [
    "df1 = pd.read_csv(r\"C:\\Users\\joey1\\OneDrive\\Desktop\\Jupyter Projects\\car_price_dataset.csv\")\n",
    "pd.set_option('display.max_rows', 10)\n",
    "df1"
   ]
  },
  {
   "cell_type": "code",
   "execution_count": 469,
   "id": "fafa1417-2e69-4bec-a40e-6545e8ee04ae",
   "metadata": {},
   "outputs": [
    {
     "data": {
      "text/html": [
       "<div>\n",
       "<style scoped>\n",
       "    .dataframe tbody tr th:only-of-type {\n",
       "        vertical-align: middle;\n",
       "    }\n",
       "\n",
       "    .dataframe tbody tr th {\n",
       "        vertical-align: top;\n",
       "    }\n",
       "\n",
       "    .dataframe thead th {\n",
       "        text-align: right;\n",
       "    }\n",
       "</style>\n",
       "<table border=\"1\" class=\"dataframe\">\n",
       "  <thead>\n",
       "    <tr style=\"text-align: right;\">\n",
       "      <th></th>\n",
       "      <th>Brand</th>\n",
       "      <th>Model</th>\n",
       "      <th>Year</th>\n",
       "      <th>Engine_Size</th>\n",
       "      <th>Fuel_Type</th>\n",
       "      <th>Transmission</th>\n",
       "      <th>Mileage</th>\n",
       "      <th>Doors</th>\n",
       "      <th>Owner_Count</th>\n",
       "      <th>Price</th>\n",
       "    </tr>\n",
       "  </thead>\n",
       "  <tbody>\n",
       "    <tr>\n",
       "      <th>0</th>\n",
       "      <td>Kia</td>\n",
       "      <td>Rio</td>\n",
       "      <td>2020</td>\n",
       "      <td>4.2</td>\n",
       "      <td>Diesel</td>\n",
       "      <td>Manual</td>\n",
       "      <td>289944</td>\n",
       "      <td>3</td>\n",
       "      <td>5</td>\n",
       "      <td>8501</td>\n",
       "    </tr>\n",
       "    <tr>\n",
       "      <th>1</th>\n",
       "      <td>Chevrolet</td>\n",
       "      <td>Malibu</td>\n",
       "      <td>2012</td>\n",
       "      <td>2.0</td>\n",
       "      <td>Hybrid</td>\n",
       "      <td>Automatic</td>\n",
       "      <td>5356</td>\n",
       "      <td>2</td>\n",
       "      <td>3</td>\n",
       "      <td>12092</td>\n",
       "    </tr>\n",
       "    <tr>\n",
       "      <th>2</th>\n",
       "      <td>Mercedes</td>\n",
       "      <td>GLA</td>\n",
       "      <td>2020</td>\n",
       "      <td>4.2</td>\n",
       "      <td>Diesel</td>\n",
       "      <td>Automatic</td>\n",
       "      <td>231440</td>\n",
       "      <td>4</td>\n",
       "      <td>2</td>\n",
       "      <td>11171</td>\n",
       "    </tr>\n",
       "    <tr>\n",
       "      <th>3</th>\n",
       "      <td>Audi</td>\n",
       "      <td>Q5</td>\n",
       "      <td>2023</td>\n",
       "      <td>2.0</td>\n",
       "      <td>Electric</td>\n",
       "      <td>Manual</td>\n",
       "      <td>160971</td>\n",
       "      <td>2</td>\n",
       "      <td>1</td>\n",
       "      <td>11780</td>\n",
       "    </tr>\n",
       "    <tr>\n",
       "      <th>4</th>\n",
       "      <td>Volkswagen</td>\n",
       "      <td>Golf</td>\n",
       "      <td>2003</td>\n",
       "      <td>2.6</td>\n",
       "      <td>Hybrid</td>\n",
       "      <td>Semi-Automatic</td>\n",
       "      <td>286618</td>\n",
       "      <td>3</td>\n",
       "      <td>3</td>\n",
       "      <td>2867</td>\n",
       "    </tr>\n",
       "    <tr>\n",
       "      <th>...</th>\n",
       "      <td>...</td>\n",
       "      <td>...</td>\n",
       "      <td>...</td>\n",
       "      <td>...</td>\n",
       "      <td>...</td>\n",
       "      <td>...</td>\n",
       "      <td>...</td>\n",
       "      <td>...</td>\n",
       "      <td>...</td>\n",
       "      <td>...</td>\n",
       "    </tr>\n",
       "    <tr>\n",
       "      <th>9995</th>\n",
       "      <td>Kia</td>\n",
       "      <td>Optima</td>\n",
       "      <td>2004</td>\n",
       "      <td>3.7</td>\n",
       "      <td>Diesel</td>\n",
       "      <td>Semi-Automatic</td>\n",
       "      <td>5794</td>\n",
       "      <td>2</td>\n",
       "      <td>4</td>\n",
       "      <td>8884</td>\n",
       "    </tr>\n",
       "    <tr>\n",
       "      <th>9996</th>\n",
       "      <td>Chevrolet</td>\n",
       "      <td>Impala</td>\n",
       "      <td>2002</td>\n",
       "      <td>1.4</td>\n",
       "      <td>Electric</td>\n",
       "      <td>Automatic</td>\n",
       "      <td>168000</td>\n",
       "      <td>2</td>\n",
       "      <td>1</td>\n",
       "      <td>6240</td>\n",
       "    </tr>\n",
       "    <tr>\n",
       "      <th>9997</th>\n",
       "      <td>BMW</td>\n",
       "      <td>3 Series</td>\n",
       "      <td>2010</td>\n",
       "      <td>3.0</td>\n",
       "      <td>Petrol</td>\n",
       "      <td>Automatic</td>\n",
       "      <td>86664</td>\n",
       "      <td>5</td>\n",
       "      <td>1</td>\n",
       "      <td>9866</td>\n",
       "    </tr>\n",
       "    <tr>\n",
       "      <th>9998</th>\n",
       "      <td>Ford</td>\n",
       "      <td>Explorer</td>\n",
       "      <td>2002</td>\n",
       "      <td>1.4</td>\n",
       "      <td>Hybrid</td>\n",
       "      <td>Automatic</td>\n",
       "      <td>225772</td>\n",
       "      <td>4</td>\n",
       "      <td>1</td>\n",
       "      <td>4084</td>\n",
       "    </tr>\n",
       "    <tr>\n",
       "      <th>9999</th>\n",
       "      <td>Volkswagen</td>\n",
       "      <td>Tiguan</td>\n",
       "      <td>2001</td>\n",
       "      <td>2.1</td>\n",
       "      <td>Diesel</td>\n",
       "      <td>Manual</td>\n",
       "      <td>157882</td>\n",
       "      <td>3</td>\n",
       "      <td>3</td>\n",
       "      <td>3342</td>\n",
       "    </tr>\n",
       "  </tbody>\n",
       "</table>\n",
       "<p>10000 rows × 10 columns</p>\n",
       "</div>"
      ],
      "text/plain": [
       "           Brand     Model  Year  Engine_Size Fuel_Type    Transmission  \\\n",
       "0            Kia       Rio  2020          4.2    Diesel          Manual   \n",
       "1      Chevrolet    Malibu  2012          2.0    Hybrid       Automatic   \n",
       "2       Mercedes       GLA  2020          4.2    Diesel       Automatic   \n",
       "3           Audi        Q5  2023          2.0  Electric          Manual   \n",
       "4     Volkswagen      Golf  2003          2.6    Hybrid  Semi-Automatic   \n",
       "...          ...       ...   ...          ...       ...             ...   \n",
       "9995         Kia    Optima  2004          3.7    Diesel  Semi-Automatic   \n",
       "9996   Chevrolet    Impala  2002          1.4  Electric       Automatic   \n",
       "9997         BMW  3 Series  2010          3.0    Petrol       Automatic   \n",
       "9998        Ford  Explorer  2002          1.4    Hybrid       Automatic   \n",
       "9999  Volkswagen    Tiguan  2001          2.1    Diesel          Manual   \n",
       "\n",
       "      Mileage  Doors  Owner_Count  Price  \n",
       "0      289944      3            5   8501  \n",
       "1        5356      2            3  12092  \n",
       "2      231440      4            2  11171  \n",
       "3      160971      2            1  11780  \n",
       "4      286618      3            3   2867  \n",
       "...       ...    ...          ...    ...  \n",
       "9995     5794      2            4   8884  \n",
       "9996   168000      2            1   6240  \n",
       "9997    86664      5            1   9866  \n",
       "9998   225772      4            1   4084  \n",
       "9999   157882      3            3   3342  \n",
       "\n",
       "[10000 rows x 10 columns]"
      ]
     },
     "execution_count": 469,
     "metadata": {},
     "output_type": "execute_result"
    }
   ],
   "source": [
    "df2 = df1.dropna()\n",
    "df2"
   ]
  },
  {
   "cell_type": "code",
   "execution_count": 470,
   "id": "30b34fe7-0c50-4e43-bee4-d609f7cf3715",
   "metadata": {},
   "outputs": [
    {
     "data": {
      "text/plain": [
       "Brand             10\n",
       "Model             30\n",
       "Year              24\n",
       "Engine_Size       41\n",
       "Fuel_Type          4\n",
       "Transmission       3\n",
       "Mileage         9854\n",
       "Doors              4\n",
       "Owner_Count        5\n",
       "Price           6661\n",
       "dtype: int64"
      ]
     },
     "execution_count": 470,
     "metadata": {},
     "output_type": "execute_result"
    }
   ],
   "source": [
    "df2.nunique()"
   ]
  },
  {
   "cell_type": "code",
   "execution_count": 471,
   "id": "561b06db-45b2-4f58-9983-adb5bcba4347",
   "metadata": {},
   "outputs": [
    {
     "data": {
      "text/plain": [
       "Brand           0\n",
       "Model           0\n",
       "Year            0\n",
       "Engine_Size     0\n",
       "Fuel_Type       0\n",
       "Transmission    0\n",
       "Mileage         0\n",
       "Doors           0\n",
       "Owner_Count     0\n",
       "Price           0\n",
       "dtype: int64"
      ]
     },
     "execution_count": 471,
     "metadata": {},
     "output_type": "execute_result"
    }
   ],
   "source": [
    "df2.isnull().sum()"
   ]
  },
  {
   "cell_type": "code",
   "execution_count": 472,
   "id": "4e4a5d17-ab35-4449-bec3-8f3ef978b64c",
   "metadata": {},
   "outputs": [
    {
     "data": {
      "text/plain": [
       "0"
      ]
     },
     "execution_count": 472,
     "metadata": {},
     "output_type": "execute_result"
    }
   ],
   "source": [
    "df2.duplicated().sum()"
   ]
  },
  {
   "cell_type": "code",
   "execution_count": 473,
   "id": "8e8741b4-709d-4c05-bbcc-7f3481e42aca",
   "metadata": {},
   "outputs": [
    {
     "data": {
      "text/html": [
       "<div>\n",
       "<style scoped>\n",
       "    .dataframe tbody tr th:only-of-type {\n",
       "        vertical-align: middle;\n",
       "    }\n",
       "\n",
       "    .dataframe tbody tr th {\n",
       "        vertical-align: top;\n",
       "    }\n",
       "\n",
       "    .dataframe thead th {\n",
       "        text-align: right;\n",
       "    }\n",
       "</style>\n",
       "<table border=\"1\" class=\"dataframe\">\n",
       "  <thead>\n",
       "    <tr style=\"text-align: right;\">\n",
       "      <th></th>\n",
       "      <th>Brand</th>\n",
       "      <th>Model</th>\n",
       "      <th>Year</th>\n",
       "      <th>Engine_Size</th>\n",
       "      <th>Fuel_Type</th>\n",
       "      <th>Transmission</th>\n",
       "      <th>Mileage</th>\n",
       "      <th>Doors</th>\n",
       "      <th>Owner_Count</th>\n",
       "      <th>Price</th>\n",
       "    </tr>\n",
       "  </thead>\n",
       "  <tbody>\n",
       "    <tr>\n",
       "      <th>0</th>\n",
       "      <td>Kia</td>\n",
       "      <td>Rio</td>\n",
       "      <td>2020</td>\n",
       "      <td>4.2</td>\n",
       "      <td>Diesel</td>\n",
       "      <td>Manual</td>\n",
       "      <td>289944</td>\n",
       "      <td>3</td>\n",
       "      <td>5</td>\n",
       "      <td>8501</td>\n",
       "    </tr>\n",
       "    <tr>\n",
       "      <th>1</th>\n",
       "      <td>Chevrolet</td>\n",
       "      <td>Malibu</td>\n",
       "      <td>2012</td>\n",
       "      <td>2.0</td>\n",
       "      <td>Hybrid</td>\n",
       "      <td>Automatic</td>\n",
       "      <td>5356</td>\n",
       "      <td>2</td>\n",
       "      <td>3</td>\n",
       "      <td>12092</td>\n",
       "    </tr>\n",
       "    <tr>\n",
       "      <th>2</th>\n",
       "      <td>Mercedes</td>\n",
       "      <td>GLA</td>\n",
       "      <td>2020</td>\n",
       "      <td>4.2</td>\n",
       "      <td>Diesel</td>\n",
       "      <td>Automatic</td>\n",
       "      <td>231440</td>\n",
       "      <td>4</td>\n",
       "      <td>2</td>\n",
       "      <td>11171</td>\n",
       "    </tr>\n",
       "    <tr>\n",
       "      <th>3</th>\n",
       "      <td>Audi</td>\n",
       "      <td>Q5</td>\n",
       "      <td>2023</td>\n",
       "      <td>2.0</td>\n",
       "      <td>Electric</td>\n",
       "      <td>Manual</td>\n",
       "      <td>160971</td>\n",
       "      <td>2</td>\n",
       "      <td>1</td>\n",
       "      <td>11780</td>\n",
       "    </tr>\n",
       "    <tr>\n",
       "      <th>4</th>\n",
       "      <td>Volkswagen</td>\n",
       "      <td>Golf</td>\n",
       "      <td>2003</td>\n",
       "      <td>2.6</td>\n",
       "      <td>Hybrid</td>\n",
       "      <td>Semi-Automatic</td>\n",
       "      <td>286618</td>\n",
       "      <td>3</td>\n",
       "      <td>3</td>\n",
       "      <td>2867</td>\n",
       "    </tr>\n",
       "    <tr>\n",
       "      <th>...</th>\n",
       "      <td>...</td>\n",
       "      <td>...</td>\n",
       "      <td>...</td>\n",
       "      <td>...</td>\n",
       "      <td>...</td>\n",
       "      <td>...</td>\n",
       "      <td>...</td>\n",
       "      <td>...</td>\n",
       "      <td>...</td>\n",
       "      <td>...</td>\n",
       "    </tr>\n",
       "    <tr>\n",
       "      <th>9995</th>\n",
       "      <td>Kia</td>\n",
       "      <td>Optima</td>\n",
       "      <td>2004</td>\n",
       "      <td>3.7</td>\n",
       "      <td>Diesel</td>\n",
       "      <td>Semi-Automatic</td>\n",
       "      <td>5794</td>\n",
       "      <td>2</td>\n",
       "      <td>4</td>\n",
       "      <td>8884</td>\n",
       "    </tr>\n",
       "    <tr>\n",
       "      <th>9996</th>\n",
       "      <td>Chevrolet</td>\n",
       "      <td>Impala</td>\n",
       "      <td>2002</td>\n",
       "      <td>1.4</td>\n",
       "      <td>Electric</td>\n",
       "      <td>Automatic</td>\n",
       "      <td>168000</td>\n",
       "      <td>2</td>\n",
       "      <td>1</td>\n",
       "      <td>6240</td>\n",
       "    </tr>\n",
       "    <tr>\n",
       "      <th>9997</th>\n",
       "      <td>BMW</td>\n",
       "      <td>3 Series</td>\n",
       "      <td>2010</td>\n",
       "      <td>3.0</td>\n",
       "      <td>Petrol</td>\n",
       "      <td>Automatic</td>\n",
       "      <td>86664</td>\n",
       "      <td>5</td>\n",
       "      <td>1</td>\n",
       "      <td>9866</td>\n",
       "    </tr>\n",
       "    <tr>\n",
       "      <th>9998</th>\n",
       "      <td>Ford</td>\n",
       "      <td>Explorer</td>\n",
       "      <td>2002</td>\n",
       "      <td>1.4</td>\n",
       "      <td>Hybrid</td>\n",
       "      <td>Automatic</td>\n",
       "      <td>225772</td>\n",
       "      <td>4</td>\n",
       "      <td>1</td>\n",
       "      <td>4084</td>\n",
       "    </tr>\n",
       "    <tr>\n",
       "      <th>9999</th>\n",
       "      <td>Volkswagen</td>\n",
       "      <td>Tiguan</td>\n",
       "      <td>2001</td>\n",
       "      <td>2.1</td>\n",
       "      <td>Diesel</td>\n",
       "      <td>Manual</td>\n",
       "      <td>157882</td>\n",
       "      <td>3</td>\n",
       "      <td>3</td>\n",
       "      <td>3342</td>\n",
       "    </tr>\n",
       "  </tbody>\n",
       "</table>\n",
       "<p>10000 rows × 10 columns</p>\n",
       "</div>"
      ],
      "text/plain": [
       "           Brand     Model  Year  Engine_Size Fuel_Type    Transmission  \\\n",
       "0            Kia       Rio  2020          4.2    Diesel          Manual   \n",
       "1      Chevrolet    Malibu  2012          2.0    Hybrid       Automatic   \n",
       "2       Mercedes       GLA  2020          4.2    Diesel       Automatic   \n",
       "3           Audi        Q5  2023          2.0  Electric          Manual   \n",
       "4     Volkswagen      Golf  2003          2.6    Hybrid  Semi-Automatic   \n",
       "...          ...       ...   ...          ...       ...             ...   \n",
       "9995         Kia    Optima  2004          3.7    Diesel  Semi-Automatic   \n",
       "9996   Chevrolet    Impala  2002          1.4  Electric       Automatic   \n",
       "9997         BMW  3 Series  2010          3.0    Petrol       Automatic   \n",
       "9998        Ford  Explorer  2002          1.4    Hybrid       Automatic   \n",
       "9999  Volkswagen    Tiguan  2001          2.1    Diesel          Manual   \n",
       "\n",
       "      Mileage  Doors  Owner_Count  Price  \n",
       "0      289944      3            5   8501  \n",
       "1        5356      2            3  12092  \n",
       "2      231440      4            2  11171  \n",
       "3      160971      2            1  11780  \n",
       "4      286618      3            3   2867  \n",
       "...       ...    ...          ...    ...  \n",
       "9995     5794      2            4   8884  \n",
       "9996   168000      2            1   6240  \n",
       "9997    86664      5            1   9866  \n",
       "9998   225772      4            1   4084  \n",
       "9999   157882      3            3   3342  \n",
       "\n",
       "[10000 rows x 10 columns]"
      ]
     },
     "execution_count": 473,
     "metadata": {},
     "output_type": "execute_result"
    }
   ],
   "source": [
    "df2"
   ]
  },
  {
   "cell_type": "markdown",
   "id": "0441ab8d-8cad-42ba-91bd-87c42a3d53e0",
   "metadata": {},
   "source": [
    "DESCRIPTIVE ANALYSIS:"
   ]
  },
  {
   "cell_type": "code",
   "execution_count": 475,
   "id": "9c9c6ab8-9c69-4188-b802-dc8f243cc133",
   "metadata": {},
   "outputs": [
    {
     "data": {
      "text/plain": [
       "Model\n",
       "Accord      365\n",
       "Fiesta      363\n",
       "Impala      355\n",
       "5 Series    353\n",
       "Tiguan      352\n",
       "           ... \n",
       "GLA         315\n",
       "Sportage    313\n",
       "X5          311\n",
       "CR-V        308\n",
       "C-Class     306\n",
       "Name: count, Length: 30, dtype: int64"
      ]
     },
     "execution_count": 475,
     "metadata": {},
     "output_type": "execute_result"
    }
   ],
   "source": [
    "#What are the most common car models in the dataset?\n",
    "car_count = df2['Model'].value_counts()\n",
    "car_count"
   ]
  },
  {
   "cell_type": "code",
   "execution_count": 476,
   "id": "791369f3-7128-4c97-9260-187408744056",
   "metadata": {},
   "outputs": [
    {
     "data": {
      "text/plain": [
       "Brand\n",
       "Ford          1048\n",
       "Audi          1038\n",
       "Volkswagen    1020\n",
       "Honda         1009\n",
       "Chevrolet     1003\n",
       "BMW            999\n",
       "Hyundai        995\n",
       "Kia            976\n",
       "Toyota         970\n",
       "Mercedes       942\n",
       "Name: count, dtype: int64"
      ]
     },
     "execution_count": 476,
     "metadata": {},
     "output_type": "execute_result"
    }
   ],
   "source": [
    "#What are the most common car brands in the dataset?\n",
    "most_common_brand = df2['Brand'].value_counts()\n",
    "most_common_brand"
   ]
  },
  {
   "cell_type": "code",
   "execution_count": 477,
   "id": "701ed25e-6f9f-4342-af3f-441143ce2508",
   "metadata": {},
   "outputs": [
    {
     "data": {
      "text/plain": [
       "Brand       Model   \n",
       "Audi        A3          8912.316568\n",
       "            A4          8919.962857\n",
       "            Q5          8955.257143\n",
       "BMW         3 Series    8854.752239\n",
       "            5 Series    8669.218130\n",
       "                           ...     \n",
       "Toyota      Corolla     8996.618462\n",
       "            RAV4        8684.108025\n",
       "Volkswagen  Golf        8765.235988\n",
       "            Passat      8914.072948\n",
       "            Tiguan      9098.863636\n",
       "Name: Price, Length: 30, dtype: float64"
      ]
     },
     "execution_count": 477,
     "metadata": {},
     "output_type": "execute_result"
    }
   ],
   "source": [
    "#What is the average price of cars by brand and model?\n",
    "df2.groupby(['Brand','Model'])['Price'].mean()"
   ]
  },
  {
   "cell_type": "code",
   "execution_count": 478,
   "id": "0f114358-a7fe-4cda-8ad9-fa85fca05880",
   "metadata": {},
   "outputs": [
    {
     "data": {
      "text/plain": [
       "Fuel_Type\n",
       "Electric    2625\n",
       "Diesel      2512\n",
       "Hybrid      2453\n",
       "Petrol      2410\n",
       "Name: count, dtype: int64"
      ]
     },
     "execution_count": 478,
     "metadata": {},
     "output_type": "execute_result"
    }
   ],
   "source": [
    "#What is the distribution of fuel types and transmission types?\n",
    "#Which Fuel Type is most common?\n",
    "fuel_type_count = df2['Fuel_Type'].value_counts()\n",
    "fuel_type_count\n",
    "#Electric is the most common fuel type in this dataset."
   ]
  },
  {
   "cell_type": "code",
   "execution_count": 479,
   "id": "93bdbe40-6b2b-4f1f-a624-62e851419340",
   "metadata": {},
   "outputs": [
    {
     "name": "stdout",
     "output_type": "stream",
     "text": [
      "Electric Cars = 2625 Petrol Cars = 2410\n"
     ]
    }
   ],
   "source": [
    "#What is the distribution of fuel types and transmission types?\n",
    "#How many electric cars are there compared to petrol cars?\n",
    "print('Electric Cars =',fuel_type_count['Electric'], 'Petrol Cars =',fuel_type_count['Petrol'])\n"
   ]
  },
  {
   "cell_type": "code",
   "execution_count": 480,
   "id": "1c37746f-974e-42ed-bd2f-992d24aa8f30",
   "metadata": {},
   "outputs": [
    {
     "name": "stdout",
     "output_type": "stream",
     "text": [
      "Manual cars = 3372 Automatic cars = 3317\n"
     ]
    },
    {
     "data": {
      "text/plain": [
       "Transmission\n",
       "Manual            3372\n",
       "Automatic         3317\n",
       "Semi-Automatic    3311\n",
       "Name: count, dtype: int64"
      ]
     },
     "execution_count": 480,
     "metadata": {},
     "output_type": "execute_result"
    }
   ],
   "source": [
    "#What is the distribution of fuel types and transmission types?\n",
    "#Is manual or automatic transmission more common?\n",
    "transmission_count = df2['Transmission'].value_counts()\n",
    "print('Manual cars =', transmission_count['Manual'], 'Automatic cars =', transmission_count['Automatic'])\n",
    "transmission_count\n",
    "#Manual cars are more common, but only by a small margin."
   ]
  },
  {
   "cell_type": "code",
   "execution_count": 481,
   "id": "86e36004-4ad1-4450-a37c-1b06a0f9e164",
   "metadata": {},
   "outputs": [
    {
     "data": {
      "text/plain": [
       "Brand       Transmission  \n",
       "Audi        Manual            353\n",
       "            Automatic         343\n",
       "            Semi-Automatic    342\n",
       "BMW         Automatic         340\n",
       "            Semi-Automatic    334\n",
       "                             ... \n",
       "Toyota      Manual            326\n",
       "            Automatic         292\n",
       "Volkswagen  Automatic         343\n",
       "            Manual            340\n",
       "            Semi-Automatic    337\n",
       "Name: count, Length: 30, dtype: int64"
      ]
     },
     "execution_count": 481,
     "metadata": {},
     "output_type": "execute_result"
    }
   ],
   "source": [
    "#What is the distribution of fuel types and transmission types?\n",
    "#Do certain brands prefer a specific transmission type?\n",
    "df2.groupby(['Brand'])['Transmission'].value_counts()"
   ]
  },
  {
   "cell_type": "code",
   "execution_count": 482,
   "id": "a97e261a-4264-47b2-b651-578637a57e6a",
   "metadata": {},
   "outputs": [
    {
     "data": {
      "text/plain": [
       "Brand       Model   \n",
       "Audi        A3          151503.860947\n",
       "            A4          149406.754286\n",
       "            Q5          152030.394286\n",
       "BMW         3 Series    146956.008955\n",
       "            5 Series    155816.328612\n",
       "                            ...      \n",
       "Toyota      Corolla     146098.809231\n",
       "            RAV4        151502.410494\n",
       "Volkswagen  Golf        144797.949853\n",
       "            Passat      149929.811550\n",
       "            Tiguan      147448.017045\n",
       "Name: Mileage, Length: 30, dtype: float64"
      ]
     },
     "execution_count": 482,
     "metadata": {},
     "output_type": "execute_result"
    }
   ],
   "source": [
    "#How does mileage vary across different car brands and models?\n",
    "df2.groupby(['Brand','Model'])['Mileage'].mean()"
   ]
  },
  {
   "cell_type": "markdown",
   "id": "24724090-fc77-4b5e-848b-e1204bedf9b9",
   "metadata": {},
   "source": [
    "EXPLORATORY DATA ANALYSIS"
   ]
  },
  {
   "cell_type": "code",
   "execution_count": 484,
   "id": "f627f635-a6b5-4aed-9959-c1d15c0c885a",
   "metadata": {},
   "outputs": [
    {
     "data": {
      "text/plain": [
       "-0.5512271827629017"
      ]
     },
     "execution_count": 484,
     "metadata": {},
     "output_type": "execute_result"
    },
    {
     "data": {
      "image/png": "[encoded data removed]",
      "text/plain": [
       "<Figure size 640x480 with 1 Axes>"
      ]
     },
     "metadata": {},
     "output_type": "display_data"
    }
   ],
   "source": [
    "#How does car price vary with mileage?\n",
    "df2_sample = df2.sample(n=100)\n",
    "df2_sample.plot.scatter(x='Mileage', y='Price')\n",
    "line = np.polyfit(df2_sample['Mileage'],df2_sample['Price'],1)\n",
    "p = np.poly1d(line)\n",
    "plt.plot(df2_sample['Mileage'],p(df2_sample['Mileage']))\n",
    "df2['Mileage'].corr(df2['Price'])\n",
    "#In this scatter plot we are shown that the relation between car price and mileage is negative. This means that as mileage increases, the price of the\n",
    "#car decreases."
   ]
  },
  {
   "cell_type": "code",
   "execution_count": 485,
   "id": "b7be4117-0583-4de5-8afd-be27597f665d",
   "metadata": {},
   "outputs": [
    {
     "data": {
      "text/plain": [
       "0.35740347535586636"
      ]
     },
     "execution_count": 485,
     "metadata": {},
     "output_type": "execute_result"
    },
    {
     "data": {
      "image/png": "[encoded data removed]",
      "text/plain": [
       "<Figure size 640x480 with 1 Axes>"
      ]
     },
     "metadata": {},
     "output_type": "display_data"
    }
   ],
   "source": [
    "#What is the relationship between engine size and car price?\n",
    "df2_sample.plot.scatter(x='Engine_Size', y='Price')\n",
    "line = np.polyfit(df2_sample['Engine_Size'],df2_sample['Price'],1)\n",
    "p = np.poly1d(line)\n",
    "plt.plot(df2_sample['Engine_Size'],p(df2_sample['Engine_Size']))\n",
    "df2['Engine_Size'].corr(df2['Price'])\n",
    "# We can conclude that there is a relativelively positive relation between price and engine size. Indicating that as engine size increases so does price."
   ]
  },
  {
   "cell_type": "code",
   "execution_count": 486,
   "id": "7a67ace8-2171-4a20-91fc-e0a55e5a877b",
   "metadata": {},
   "outputs": [
    {
     "data": {
      "text/plain": [
       "<Axes: xlabel='Fuel_Type'>"
      ]
     },
     "execution_count": 486,
     "metadata": {},
     "output_type": "execute_result"
    },
    {
     "data": {
      "image/png": "[encoded data removed]",
      "text/plain": [
       "<Figure size 640x480 with 1 Axes>"
      ]
     },
     "metadata": {},
     "output_type": "display_data"
    }
   ],
   "source": [
    "#Do electric and hybrid cars have significantly higher or lower prices compared to petrol and diesel cars?\n",
    "fuel_type_prices = df2.groupby(['Fuel_Type'])['Price'].mean()\n",
    "fuel_type_prices.sort_values(ascending = False)\n",
    "fuel_type_prices.plot.bar()\n",
    "#Based on the graph we can conclude that on average electric and hybrid cars tend to cost more than petrol or diesel vehicles."
   ]
  },
  {
   "cell_type": "code",
   "execution_count": 487,
   "id": "6f61638f-ff33-4e9f-a258-fba0d4393e82",
   "metadata": {},
   "outputs": [
    {
     "data": {
      "text/plain": [
       "Owner_Count\n",
       "1    8841.374263\n",
       "2    8847.258416\n",
       "3    8847.918563\n",
       "4    8869.173485\n",
       "5    8859.742141\n",
       "Name: Price, dtype: float64"
      ]
     },
     "execution_count": 487,
     "metadata": {},
     "output_type": "execute_result"
    }
   ],
   "source": [
    "#How does the number of previous owners impact the price of a car?\n",
    "df2['Owner_Count'].corr(df2['Price'])\n",
    "prev_owner_price_relation = df2.groupby(['Owner_Count'])['Price'].mean()\n",
    "prev_owner_price_relation\n",
    "#Minimal impact on the price of the car. We can determine the amount of previous owners does not significantly impact the price of a car."
   ]
  },
  {
   "cell_type": "code",
   "execution_count": 488,
   "id": "72d85381-009b-4b67-beb1-b4d250944288",
   "metadata": {},
   "outputs": [
    {
     "data": {
      "text/html": [
       "<div>\n",
       "<style scoped>\n",
       "    .dataframe tbody tr th:only-of-type {\n",
       "        vertical-align: middle;\n",
       "    }\n",
       "\n",
       "    .dataframe tbody tr th {\n",
       "        vertical-align: top;\n",
       "    }\n",
       "\n",
       "    .dataframe thead th {\n",
       "        text-align: right;\n",
       "    }\n",
       "</style>\n",
       "<table border=\"1\" class=\"dataframe\">\n",
       "  <thead>\n",
       "    <tr style=\"text-align: right;\">\n",
       "      <th></th>\n",
       "      <th>Brand</th>\n",
       "      <th>Model</th>\n",
       "      <th>Year</th>\n",
       "      <th>Engine_Size</th>\n",
       "      <th>Fuel_Type</th>\n",
       "      <th>Transmission</th>\n",
       "      <th>Mileage</th>\n",
       "      <th>Doors</th>\n",
       "      <th>Owner_Count</th>\n",
       "      <th>Price</th>\n",
       "      <th>Car_Age</th>\n",
       "    </tr>\n",
       "  </thead>\n",
       "  <tbody>\n",
       "    <tr>\n",
       "      <th>1100</th>\n",
       "      <td>Toyota</td>\n",
       "      <td>Corolla</td>\n",
       "      <td>2021</td>\n",
       "      <td>4.7</td>\n",
       "      <td>Electric</td>\n",
       "      <td>Automatic</td>\n",
       "      <td>14924</td>\n",
       "      <td>5</td>\n",
       "      <td>3</td>\n",
       "      <td>18301</td>\n",
       "      <td>4</td>\n",
       "    </tr>\n",
       "    <tr>\n",
       "      <th>826</th>\n",
       "      <td>Chevrolet</td>\n",
       "      <td>Impala</td>\n",
       "      <td>2009</td>\n",
       "      <td>4.1</td>\n",
       "      <td>Diesel</td>\n",
       "      <td>Automatic</td>\n",
       "      <td>195365</td>\n",
       "      <td>5</td>\n",
       "      <td>2</td>\n",
       "      <td>8492</td>\n",
       "      <td>16</td>\n",
       "    </tr>\n",
       "    <tr>\n",
       "      <th>4037</th>\n",
       "      <td>Volkswagen</td>\n",
       "      <td>Passat</td>\n",
       "      <td>2010</td>\n",
       "      <td>2.3</td>\n",
       "      <td>Electric</td>\n",
       "      <td>Semi-Automatic</td>\n",
       "      <td>260528</td>\n",
       "      <td>3</td>\n",
       "      <td>5</td>\n",
       "      <td>6189</td>\n",
       "      <td>15</td>\n",
       "    </tr>\n",
       "    <tr>\n",
       "      <th>6251</th>\n",
       "      <td>BMW</td>\n",
       "      <td>X5</td>\n",
       "      <td>2018</td>\n",
       "      <td>2.2</td>\n",
       "      <td>Diesel</td>\n",
       "      <td>Semi-Automatic</td>\n",
       "      <td>227535</td>\n",
       "      <td>4</td>\n",
       "      <td>5</td>\n",
       "      <td>7149</td>\n",
       "      <td>7</td>\n",
       "    </tr>\n",
       "    <tr>\n",
       "      <th>5643</th>\n",
       "      <td>Ford</td>\n",
       "      <td>Explorer</td>\n",
       "      <td>2021</td>\n",
       "      <td>3.4</td>\n",
       "      <td>Diesel</td>\n",
       "      <td>Manual</td>\n",
       "      <td>158797</td>\n",
       "      <td>2</td>\n",
       "      <td>1</td>\n",
       "      <td>10624</td>\n",
       "      <td>4</td>\n",
       "    </tr>\n",
       "    <tr>\n",
       "      <th>...</th>\n",
       "      <td>...</td>\n",
       "      <td>...</td>\n",
       "      <td>...</td>\n",
       "      <td>...</td>\n",
       "      <td>...</td>\n",
       "      <td>...</td>\n",
       "      <td>...</td>\n",
       "      <td>...</td>\n",
       "      <td>...</td>\n",
       "      <td>...</td>\n",
       "      <td>...</td>\n",
       "    </tr>\n",
       "    <tr>\n",
       "      <th>7993</th>\n",
       "      <td>Hyundai</td>\n",
       "      <td>Elantra</td>\n",
       "      <td>2003</td>\n",
       "      <td>1.6</td>\n",
       "      <td>Electric</td>\n",
       "      <td>Semi-Automatic</td>\n",
       "      <td>232233</td>\n",
       "      <td>3</td>\n",
       "      <td>3</td>\n",
       "      <td>3955</td>\n",
       "      <td>22</td>\n",
       "    </tr>\n",
       "    <tr>\n",
       "      <th>8689</th>\n",
       "      <td>Volkswagen</td>\n",
       "      <td>Golf</td>\n",
       "      <td>2017</td>\n",
       "      <td>3.7</td>\n",
       "      <td>Diesel</td>\n",
       "      <td>Semi-Automatic</td>\n",
       "      <td>298624</td>\n",
       "      <td>3</td>\n",
       "      <td>2</td>\n",
       "      <td>6927</td>\n",
       "      <td>8</td>\n",
       "    </tr>\n",
       "    <tr>\n",
       "      <th>158</th>\n",
       "      <td>Kia</td>\n",
       "      <td>Optima</td>\n",
       "      <td>2000</td>\n",
       "      <td>3.7</td>\n",
       "      <td>Electric</td>\n",
       "      <td>Manual</td>\n",
       "      <td>166776</td>\n",
       "      <td>2</td>\n",
       "      <td>2</td>\n",
       "      <td>6464</td>\n",
       "      <td>25</td>\n",
       "    </tr>\n",
       "    <tr>\n",
       "      <th>448</th>\n",
       "      <td>Audi</td>\n",
       "      <td>A4</td>\n",
       "      <td>2007</td>\n",
       "      <td>1.4</td>\n",
       "      <td>Petrol</td>\n",
       "      <td>Manual</td>\n",
       "      <td>252417</td>\n",
       "      <td>3</td>\n",
       "      <td>3</td>\n",
       "      <td>2551</td>\n",
       "      <td>18</td>\n",
       "    </tr>\n",
       "    <tr>\n",
       "      <th>4561</th>\n",
       "      <td>Kia</td>\n",
       "      <td>Sportage</td>\n",
       "      <td>2011</td>\n",
       "      <td>2.7</td>\n",
       "      <td>Electric</td>\n",
       "      <td>Manual</td>\n",
       "      <td>21260</td>\n",
       "      <td>4</td>\n",
       "      <td>5</td>\n",
       "      <td>11674</td>\n",
       "      <td>14</td>\n",
       "    </tr>\n",
       "  </tbody>\n",
       "</table>\n",
       "<p>100 rows × 11 columns</p>\n",
       "</div>"
      ],
      "text/plain": [
       "           Brand     Model  Year  Engine_Size Fuel_Type    Transmission  \\\n",
       "1100      Toyota   Corolla  2021          4.7  Electric       Automatic   \n",
       "826    Chevrolet    Impala  2009          4.1    Diesel       Automatic   \n",
       "4037  Volkswagen    Passat  2010          2.3  Electric  Semi-Automatic   \n",
       "6251         BMW        X5  2018          2.2    Diesel  Semi-Automatic   \n",
       "5643        Ford  Explorer  2021          3.4    Diesel          Manual   \n",
       "...          ...       ...   ...          ...       ...             ...   \n",
       "7993     Hyundai   Elantra  2003          1.6  Electric  Semi-Automatic   \n",
       "8689  Volkswagen      Golf  2017          3.7    Diesel  Semi-Automatic   \n",
       "158          Kia    Optima  2000          3.7  Electric          Manual   \n",
       "448         Audi        A4  2007          1.4    Petrol          Manual   \n",
       "4561         Kia  Sportage  2011          2.7  Electric          Manual   \n",
       "\n",
       "      Mileage  Doors  Owner_Count  Price  Car_Age  \n",
       "1100    14924      5            3  18301        4  \n",
       "826    195365      5            2   8492       16  \n",
       "4037   260528      3            5   6189       15  \n",
       "6251   227535      4            5   7149        7  \n",
       "5643   158797      2            1  10624        4  \n",
       "...       ...    ...          ...    ...      ...  \n",
       "7993   232233      3            3   3955       22  \n",
       "8689   298624      3            2   6927        8  \n",
       "158    166776      2            2   6464       25  \n",
       "448    252417      3            3   2551       18  \n",
       "4561    21260      4            5  11674       14  \n",
       "\n",
       "[100 rows x 11 columns]"
      ]
     },
     "execution_count": 488,
     "metadata": {},
     "output_type": "execute_result"
    }
   ],
   "source": [
    "#Is there a correlation between car age (Year) and price depreciation?\n",
    "\n",
    "today = datetime.today()\n",
    "car_age = today.year - df2['Year']\n",
    "df2['Car_Age'] = car_age\n",
    "df2_sample_new = df2.sample(n=100)\n",
    "df2_sample_new"
   ]
  },
  {
   "cell_type": "code",
   "execution_count": 489,
   "id": "04cface4-fff7-4a4d-bb50-714568c6f009",
   "metadata": {},
   "outputs": [
    {
     "data": {
      "text/plain": [
       "-0.6630358185023513"
      ]
     },
     "execution_count": 489,
     "metadata": {},
     "output_type": "execute_result"
    },
    {
     "data": {
      "image/png": "[encoded data removed]",
      "text/plain": [
       "<Figure size 640x480 with 1 Axes>"
      ]
     },
     "metadata": {},
     "output_type": "display_data"
    }
   ],
   "source": [
    "#Is there a correlation between car age (Year) and price depreciation?\n",
    "df2_sample_new.plot.scatter(x='Car_Age', y='Price')\n",
    "line = np.polyfit(df2_sample_new['Car_Age'],df2_sample_new['Price'],1)\n",
    "p = np.poly1d(line)\n",
    "plt.plot(df2_sample_new['Car_Age'],p(df2_sample_new['Car_Age']))\n",
    "df2['Price'].corr(car_age)\n",
    "#Relatively negative correlation which indicates that as the cars age gets older its price decreases."
   ]
  },
  {
   "cell_type": "markdown",
   "id": "a7314b90-31ad-4a72-9efa-97bc681e01c4",
   "metadata": {},
   "source": [
    "COMPARATIVE ANALYSIS:"
   ]
  },
  {
   "cell_type": "code",
   "execution_count": 491,
   "id": "dee3c696-8e61-4bab-9592-de766f14baf0",
   "metadata": {},
   "outputs": [
    {
     "data": {
      "text/plain": [
       "Transmission\n",
       "Automatic         9938.252939\n",
       "Manual            8363.426157\n",
       "Semi-Automatic    8264.266385\n",
       "Name: Price, dtype: float64"
      ]
     },
     "execution_count": 491,
     "metadata": {},
     "output_type": "execute_result"
    },
    {
     "data": {
      "image/png": "[encoded data removed]",
      "text/plain": [
       "<Figure size 640x480 with 1 Axes>"
      ]
     },
     "metadata": {},
     "output_type": "display_data"
    }
   ],
   "source": [
    "#Do automatic transmission cars generally cost more than manual transmission cars?\n",
    "average_price_transmissions = df2.groupby(['Transmission'])['Price'].mean()\n",
    "average_price_transmissions.plot.bar()\n",
    "average_price_transmissions\n"
   ]
  },
  {
   "cell_type": "code",
   "execution_count": 492,
   "id": "fdbb915d-b46d-45ea-9e05-bae88e0e821c",
   "metadata": {},
   "outputs": [
    {
     "data": {
      "image/png": "[encoded data removed]",
      "text/plain": [
       "<Figure size 640x480 with 1 Axes>"
      ]
     },
     "metadata": {},
     "output_type": "display_data"
    }
   ],
   "source": [
    "#Which car brand retains its value the best over time?\n",
    "top_3_brands = df2['Brand'].value_counts().head(3).index\n",
    "filtered_df2 = df2[df2['Brand'].isin(top_3_brands)]\n",
    "\n",
    "grouped = filtered_df2.groupby(['Car_Age','Brand'])['Price'].mean().unstack()\n",
    "\n",
    "#plt.figure(figsize=(16, 10))\n",
    "for brand in grouped.columns:\n",
    "   plt.plot(grouped.index, grouped[brand], label = brand)\n",
    "   \n",
    "plt.xlim(0,30)\n",
    "    \n",
    "plt.title(\"Car Price vs Car Age by Brand\")\n",
    "plt.xlabel(\"Car Age\")\n",
    "plt.ylabel(\"Average Price ($)\")\n",
    "plt.legend(title='Brand')\n",
    "plt.show()\n",
    "#According to the graph, the car brand that best retains its value the best over time is Audi. Both Ford and Volkswagen have a worse retention. This is\n",
    "#based on the top 3 data brands that appear most in our data."
   ]
  },
  {
   "cell_type": "code",
   "execution_count": 493,
   "id": "1f8cd73f-1ef0-463c-bc98-0bd571b628be",
   "metadata": {},
   "outputs": [
    {
     "data": {
      "text/plain": [
       "Doors\n",
       "2    8928.931161\n",
       "3    8746.446602\n",
       "4    8841.587908\n",
       "5    8900.352606\n",
       "Name: Price, dtype: float64"
      ]
     },
     "execution_count": 493,
     "metadata": {},
     "output_type": "execute_result"
    },
    {
     "data": {
      "image/png": "[encoded data removed]",
      "text/plain": [
       "<Figure size 640x480 with 1 Axes>"
      ]
     },
     "metadata": {},
     "output_type": "display_data"
    }
   ],
   "source": [
    "#Do cars with more doors (e.g., 4-5) have higher prices compared to 2-door or 3-door cars?\n",
    "doors_price = df2.groupby(['Doors'])['Price'].mean()\n",
    "doors_price.plot()\n",
    "doors_price\n",
    "#The graph and shows us that on average,4 and 5 door cars cost more than 3 door cars. The data also shows that 2 door cars are higher priced on average."
   ]
  },
  {
   "cell_type": "code",
   "execution_count": null,
   "id": "d259daae-649d-4140-8597-e9709495935f",
   "metadata": {},
   "outputs": [],
   "source": []
  },
  {
   "cell_type": "code",
   "execution_count": null,
   "id": "85fbd44b-ce73-42ac-8b34-dbe28eb2e566",
   "metadata": {},
   "outputs": [],
   "source": []
  }
 ],
 "metadata": {
  "kernelspec": {
   "display_name": "Python 3 (ipykernel)",
   "language": "python",
   "name": "python3"
  },
  "language_info": {
   "codemirror_mode": {
    "name": "ipython",
    "version": 3
   },
   "file_extension": ".py",
   "mimetype": "text/x-python",
   "name": "python",
   "nbconvert_exporter": "python",
   "pygments_lexer": "ipython3",
   "version": "3.12.3"
  }
 },
 "nbformat": 4,
 "nbformat_minor": 5
}
